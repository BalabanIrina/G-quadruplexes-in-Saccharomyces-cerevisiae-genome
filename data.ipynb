{
 "cells": [
  {
   "cell_type": "code",
   "execution_count": 1,
   "metadata": {},
   "outputs": [],
   "source": [
    "import pandas as pd\n",
    "import matplotlib.pyplot as plt"
   ]
  },
  {
   "cell_type": "markdown",
   "metadata": {},
   "source": [
    "### Предобработка"
   ]
  },
  {
   "cell_type": "markdown",
   "metadata": {},
   "source": [
    "#### Обрабатываем plus последовательность"
   ]
  },
  {
   "cell_type": "code",
   "execution_count": 2,
   "metadata": {},
   "outputs": [
    {
     "data": {
      "text/html": [
       "<div>\n",
       "<style scoped>\n",
       "    .dataframe tbody tr th:only-of-type {\n",
       "        vertical-align: middle;\n",
       "    }\n",
       "\n",
       "    .dataframe tbody tr th {\n",
       "        vertical-align: top;\n",
       "    }\n",
       "\n",
       "    .dataframe thead th {\n",
       "        text-align: right;\n",
       "    }\n",
       "</style>\n",
       "<table border=\"1\" class=\"dataframe\">\n",
       "  <thead>\n",
       "    <tr style=\"text-align: right;\">\n",
       "      <th></th>\n",
       "      <th>chr</th>\n",
       "      <th>first</th>\n",
       "      <th>last</th>\n",
       "      <th>?</th>\n",
       "    </tr>\n",
       "  </thead>\n",
       "  <tbody>\n",
       "    <tr>\n",
       "      <th>0</th>\n",
       "      <td>chrIII</td>\n",
       "      <td>1</td>\n",
       "      <td>489</td>\n",
       "      <td>44.0</td>\n",
       "    </tr>\n",
       "    <tr>\n",
       "      <th>1</th>\n",
       "      <td>chrIII</td>\n",
       "      <td>1074</td>\n",
       "      <td>1104</td>\n",
       "      <td>47.0</td>\n",
       "    </tr>\n",
       "    <tr>\n",
       "      <th>2</th>\n",
       "      <td>chrIII</td>\n",
       "      <td>50662</td>\n",
       "      <td>50782</td>\n",
       "      <td>38.5</td>\n",
       "    </tr>\n",
       "    <tr>\n",
       "      <th>3</th>\n",
       "      <td>chrIII</td>\n",
       "      <td>52882</td>\n",
       "      <td>53002</td>\n",
       "      <td>38.5</td>\n",
       "    </tr>\n",
       "    <tr>\n",
       "      <th>4</th>\n",
       "      <td>chrIII</td>\n",
       "      <td>133295</td>\n",
       "      <td>133505</td>\n",
       "      <td>40.1</td>\n",
       "    </tr>\n",
       "  </tbody>\n",
       "</table>\n",
       "</div>"
      ],
      "text/plain": [
       "      chr   first    last     ?\n",
       "0  chrIII       1     489  44.0\n",
       "1  chrIII    1074    1104  47.0\n",
       "2  chrIII   50662   50782  38.5\n",
       "3  chrIII   52882   53002  38.5\n",
       "4  chrIII  133295  133505  40.1"
      ]
     },
     "execution_count": 2,
     "metadata": {},
     "output_type": "execute_result"
    }
   ],
   "source": [
    "dt = pd.read_csv('Saccaromyces_all_w15_th-1_plus.hits.max.PDS.w50.35.bed', sep='\\t', names=['chr', 'first', 'last', '?'])\n",
    "dt.head()"
   ]
  },
  {
   "cell_type": "code",
   "execution_count": 3,
   "metadata": {},
   "outputs": [
    {
     "data": {
      "text/plain": [
       "282"
      ]
     },
     "execution_count": 3,
     "metadata": {},
     "output_type": "execute_result"
    }
   ],
   "source": [
    "len(dt)"
   ]
  },
  {
   "cell_type": "code",
   "execution_count": 4,
   "metadata": {},
   "outputs": [
    {
     "data": {
      "text/html": [
       "<div>\n",
       "<style scoped>\n",
       "    .dataframe tbody tr th:only-of-type {\n",
       "        vertical-align: middle;\n",
       "    }\n",
       "\n",
       "    .dataframe tbody tr th {\n",
       "        vertical-align: top;\n",
       "    }\n",
       "\n",
       "    .dataframe thead th {\n",
       "        text-align: right;\n",
       "    }\n",
       "</style>\n",
       "<table border=\"1\" class=\"dataframe\">\n",
       "  <thead>\n",
       "    <tr style=\"text-align: right;\">\n",
       "      <th></th>\n",
       "      <th>chr</th>\n",
       "      <th>first</th>\n",
       "      <th>last</th>\n",
       "      <th>?</th>\n",
       "      <th>dif</th>\n",
       "    </tr>\n",
       "  </thead>\n",
       "  <tbody>\n",
       "    <tr>\n",
       "      <th>0</th>\n",
       "      <td>chrIII</td>\n",
       "      <td>1</td>\n",
       "      <td>489</td>\n",
       "      <td>44.0</td>\n",
       "      <td>488</td>\n",
       "    </tr>\n",
       "    <tr>\n",
       "      <th>1</th>\n",
       "      <td>chrIII</td>\n",
       "      <td>1074</td>\n",
       "      <td>1104</td>\n",
       "      <td>47.0</td>\n",
       "      <td>30</td>\n",
       "    </tr>\n",
       "    <tr>\n",
       "      <th>2</th>\n",
       "      <td>chrIII</td>\n",
       "      <td>50662</td>\n",
       "      <td>50782</td>\n",
       "      <td>38.5</td>\n",
       "      <td>120</td>\n",
       "    </tr>\n",
       "    <tr>\n",
       "      <th>3</th>\n",
       "      <td>chrIII</td>\n",
       "      <td>52882</td>\n",
       "      <td>53002</td>\n",
       "      <td>38.5</td>\n",
       "      <td>120</td>\n",
       "    </tr>\n",
       "    <tr>\n",
       "      <th>4</th>\n",
       "      <td>chrIII</td>\n",
       "      <td>133295</td>\n",
       "      <td>133505</td>\n",
       "      <td>40.1</td>\n",
       "      <td>210</td>\n",
       "    </tr>\n",
       "  </tbody>\n",
       "</table>\n",
       "</div>"
      ],
      "text/plain": [
       "      chr   first    last     ?  dif\n",
       "0  chrIII       1     489  44.0  488\n",
       "1  chrIII    1074    1104  47.0   30\n",
       "2  chrIII   50662   50782  38.5  120\n",
       "3  chrIII   52882   53002  38.5  120\n",
       "4  chrIII  133295  133505  40.1  210"
      ]
     },
     "execution_count": 4,
     "metadata": {},
     "output_type": "execute_result"
    }
   ],
   "source": [
    "l = []\n",
    "for i in range(len(dt)):\n",
    "    l.append(dt['last'][i] - dt['first'][i])\n",
    "dt['dif'] = l\n",
    "dt.head()"
   ]
  },
  {
   "cell_type": "markdown",
   "metadata": {},
   "source": [
    "Смотрим распределение последовательностей, избавляемся от выбросов."
   ]
  },
  {
   "cell_type": "code",
   "execution_count": 5,
   "metadata": {},
   "outputs": [
    {
     "data": {
      "image/png": "[encoded data removed]",
      "text/plain": [
       "<Figure size 432x288 with 1 Axes>"
      ]
     },
     "metadata": {
      "needs_background": "light"
     },
     "output_type": "display_data"
    }
   ],
   "source": [
    "# dt['dif'].hist(bins=len(dt['dif']))\n",
    "plt.hist(dt['dif'], density=True, bins=30)  # `density=False` would make counts\n",
    "plt.ylabel('Prob')\n",
    "plt.xlabel('Length');\n",
    "plt.show()"
   ]
  },
  {
   "cell_type": "code",
   "execution_count": 6,
   "metadata": {},
   "outputs": [
    {
     "name": "stdout",
     "output_type": "stream",
     "text": [
      "488 15 132.33333333333334\n"
     ]
    }
   ],
   "source": [
    "print(max(dt['dif']), min(dt['dif']), sum(dt['dif'])/len(dt['dif']))"
   ]
  },
  {
   "cell_type": "code",
   "execution_count": 7,
   "metadata": {},
   "outputs": [],
   "source": [
    "for i in range(len(dt)):\n",
    "    if dt['dif'][i] > 270:\n",
    "        dt = dt.drop(i)\n",
    "dt = dt.reset_index(drop=True)\n",
    "for i in range(len(dt)):\n",
    "    if dt['dif'][i] < 30:\n",
    "        dt = dt.drop(i)\n",
    "dt = dt.reset_index(drop=True)"
   ]
  },
  {
   "cell_type": "code",
   "execution_count": 8,
   "metadata": {},
   "outputs": [
    {
     "data": {
      "text/plain": [
       "274"
      ]
     },
     "execution_count": 8,
     "metadata": {},
     "output_type": "execute_result"
    }
   ],
   "source": [
    "len(dt)"
   ]
  },
  {
   "cell_type": "code",
   "execution_count": 9,
   "metadata": {},
   "outputs": [
    {
     "data": {
      "text/html": [
       "<div>\n",
       "<style scoped>\n",
       "    .dataframe tbody tr th:only-of-type {\n",
       "        vertical-align: middle;\n",
       "    }\n",
       "\n",
       "    .dataframe tbody tr th {\n",
       "        vertical-align: top;\n",
       "    }\n",
       "\n",
       "    .dataframe thead th {\n",
       "        text-align: right;\n",
       "    }\n",
       "</style>\n",
       "<table border=\"1\" class=\"dataframe\">\n",
       "  <thead>\n",
       "    <tr style=\"text-align: right;\">\n",
       "      <th></th>\n",
       "      <th>first</th>\n",
       "      <th>last</th>\n",
       "      <th>?</th>\n",
       "      <th>count</th>\n",
       "    </tr>\n",
       "    <tr>\n",
       "      <th>dif</th>\n",
       "      <th></th>\n",
       "      <th></th>\n",
       "      <th></th>\n",
       "      <th></th>\n",
       "    </tr>\n",
       "  </thead>\n",
       "  <tbody>\n",
       "    <tr>\n",
       "      <th>30</th>\n",
       "      <td>1060352</td>\n",
       "      <td>1060562</td>\n",
       "      <td>309.9</td>\n",
       "      <td>7</td>\n",
       "    </tr>\n",
       "    <tr>\n",
       "      <th>45</th>\n",
       "      <td>1510410</td>\n",
       "      <td>1510590</td>\n",
       "      <td>148.3</td>\n",
       "      <td>4</td>\n",
       "    </tr>\n",
       "    <tr>\n",
       "      <th>53</th>\n",
       "      <td>3</td>\n",
       "      <td>162</td>\n",
       "      <td>143.5</td>\n",
       "      <td>3</td>\n",
       "    </tr>\n",
       "    <tr>\n",
       "      <th>60</th>\n",
       "      <td>3021509</td>\n",
       "      <td>3021929</td>\n",
       "      <td>297.6</td>\n",
       "      <td>7</td>\n",
       "    </tr>\n",
       "    <tr>\n",
       "      <th>75</th>\n",
       "      <td>1075804</td>\n",
       "      <td>1075879</td>\n",
       "      <td>35.1</td>\n",
       "      <td>1</td>\n",
       "    </tr>\n",
       "    <tr>\n",
       "      <th>83</th>\n",
       "      <td>3</td>\n",
       "      <td>252</td>\n",
       "      <td>151.5</td>\n",
       "      <td>3</td>\n",
       "    </tr>\n",
       "    <tr>\n",
       "      <th>90</th>\n",
       "      <td>175585</td>\n",
       "      <td>175675</td>\n",
       "      <td>36.6</td>\n",
       "      <td>1</td>\n",
       "    </tr>\n",
       "    <tr>\n",
       "      <th>105</th>\n",
       "      <td>10967902</td>\n",
       "      <td>10970212</td>\n",
       "      <td>845.9</td>\n",
       "      <td>22</td>\n",
       "    </tr>\n",
       "    <tr>\n",
       "      <th>120</th>\n",
       "      <td>44615627</td>\n",
       "      <td>44627147</td>\n",
       "      <td>4201.3</td>\n",
       "      <td>96</td>\n",
       "    </tr>\n",
       "    <tr>\n",
       "      <th>128</th>\n",
       "      <td>1</td>\n",
       "      <td>129</td>\n",
       "      <td>54.4</td>\n",
       "      <td>1</td>\n",
       "    </tr>\n",
       "    <tr>\n",
       "      <th>135</th>\n",
       "      <td>35127976</td>\n",
       "      <td>35137831</td>\n",
       "      <td>3556.9</td>\n",
       "      <td>73</td>\n",
       "    </tr>\n",
       "    <tr>\n",
       "      <th>150</th>\n",
       "      <td>9435189</td>\n",
       "      <td>9438339</td>\n",
       "      <td>1159.3</td>\n",
       "      <td>21</td>\n",
       "    </tr>\n",
       "    <tr>\n",
       "      <th>158</th>\n",
       "      <td>1</td>\n",
       "      <td>159</td>\n",
       "      <td>42.7</td>\n",
       "      <td>1</td>\n",
       "    </tr>\n",
       "    <tr>\n",
       "      <th>165</th>\n",
       "      <td>2211495</td>\n",
       "      <td>2212815</td>\n",
       "      <td>380.9</td>\n",
       "      <td>8</td>\n",
       "    </tr>\n",
       "    <tr>\n",
       "      <th>180</th>\n",
       "      <td>4580176</td>\n",
       "      <td>4581976</td>\n",
       "      <td>502.4</td>\n",
       "      <td>10</td>\n",
       "    </tr>\n",
       "    <tr>\n",
       "      <th>195</th>\n",
       "      <td>1407662</td>\n",
       "      <td>1408832</td>\n",
       "      <td>312.7</td>\n",
       "      <td>6</td>\n",
       "    </tr>\n",
       "    <tr>\n",
       "      <th>210</th>\n",
       "      <td>630799</td>\n",
       "      <td>631429</td>\n",
       "      <td>134.3</td>\n",
       "      <td>3</td>\n",
       "    </tr>\n",
       "    <tr>\n",
       "      <th>225</th>\n",
       "      <td>6467</td>\n",
       "      <td>6692</td>\n",
       "      <td>38.2</td>\n",
       "      <td>1</td>\n",
       "    </tr>\n",
       "    <tr>\n",
       "      <th>233</th>\n",
       "      <td>1</td>\n",
       "      <td>234</td>\n",
       "      <td>42.4</td>\n",
       "      <td>1</td>\n",
       "    </tr>\n",
       "    <tr>\n",
       "      <th>240</th>\n",
       "      <td>10072</td>\n",
       "      <td>10552</td>\n",
       "      <td>97.6</td>\n",
       "      <td>2</td>\n",
       "    </tr>\n",
       "    <tr>\n",
       "      <th>255</th>\n",
       "      <td>835730</td>\n",
       "      <td>836240</td>\n",
       "      <td>78.4</td>\n",
       "      <td>2</td>\n",
       "    </tr>\n",
       "    <tr>\n",
       "      <th>270</th>\n",
       "      <td>651933</td>\n",
       "      <td>652203</td>\n",
       "      <td>50.6</td>\n",
       "      <td>1</td>\n",
       "    </tr>\n",
       "  </tbody>\n",
       "</table>\n",
       "</div>"
      ],
      "text/plain": [
       "        first      last       ?  count\n",
       "dif                                   \n",
       "30    1060352   1060562   309.9      7\n",
       "45    1510410   1510590   148.3      4\n",
       "53          3       162   143.5      3\n",
       "60    3021509   3021929   297.6      7\n",
       "75    1075804   1075879    35.1      1\n",
       "83          3       252   151.5      3\n",
       "90     175585    175675    36.6      1\n",
       "105  10967902  10970212   845.9     22\n",
       "120  44615627  44627147  4201.3     96\n",
       "128         1       129    54.4      1\n",
       "135  35127976  35137831  3556.9     73\n",
       "150   9435189   9438339  1159.3     21\n",
       "158         1       159    42.7      1\n",
       "165   2211495   2212815   380.9      8\n",
       "180   4580176   4581976   502.4     10\n",
       "195   1407662   1408832   312.7      6\n",
       "210    630799    631429   134.3      3\n",
       "225      6467      6692    38.2      1\n",
       "233         1       234    42.4      1\n",
       "240     10072     10552    97.6      2\n",
       "255    835730    836240    78.4      2\n",
       "270    651933    652203    50.6      1"
      ]
     },
     "execution_count": 9,
     "metadata": {},
     "output_type": "execute_result"
    }
   ],
   "source": [
    "l = [1]*len(dt)\n",
    "dt['count'] = l\n",
    "dt.groupby(['dif']).sum()"
   ]
  },
  {
   "cell_type": "code",
   "execution_count": 10,
   "metadata": {},
   "outputs": [
    {
     "data": {
      "text/html": [
       "<div>\n",
       "<style scoped>\n",
       "    .dataframe tbody tr th:only-of-type {\n",
       "        vertical-align: middle;\n",
       "    }\n",
       "\n",
       "    .dataframe tbody tr th {\n",
       "        vertical-align: top;\n",
       "    }\n",
       "\n",
       "    .dataframe thead th {\n",
       "        text-align: right;\n",
       "    }\n",
       "</style>\n",
       "<table border=\"1\" class=\"dataframe\">\n",
       "  <thead>\n",
       "    <tr style=\"text-align: right;\">\n",
       "      <th></th>\n",
       "      <th>chr</th>\n",
       "      <th>first</th>\n",
       "      <th>last</th>\n",
       "      <th>reverse</th>\n",
       "      <th>1</th>\n",
       "      <th>-</th>\n",
       "    </tr>\n",
       "  </thead>\n",
       "  <tbody>\n",
       "    <tr>\n",
       "      <th>0</th>\n",
       "      <td>chrIII</td>\n",
       "      <td>1074</td>\n",
       "      <td>1104</td>\n",
       "      <td>reverse</td>\n",
       "      <td>1</td>\n",
       "      <td>-</td>\n",
       "    </tr>\n",
       "    <tr>\n",
       "      <th>1</th>\n",
       "      <td>chrIII</td>\n",
       "      <td>50662</td>\n",
       "      <td>50782</td>\n",
       "      <td>reverse</td>\n",
       "      <td>1</td>\n",
       "      <td>-</td>\n",
       "    </tr>\n",
       "    <tr>\n",
       "      <th>2</th>\n",
       "      <td>chrIII</td>\n",
       "      <td>52882</td>\n",
       "      <td>53002</td>\n",
       "      <td>reverse</td>\n",
       "      <td>1</td>\n",
       "      <td>-</td>\n",
       "    </tr>\n",
       "    <tr>\n",
       "      <th>3</th>\n",
       "      <td>chrIII</td>\n",
       "      <td>133295</td>\n",
       "      <td>133505</td>\n",
       "      <td>reverse</td>\n",
       "      <td>1</td>\n",
       "      <td>-</td>\n",
       "    </tr>\n",
       "    <tr>\n",
       "      <th>4</th>\n",
       "      <td>chrIII</td>\n",
       "      <td>164340</td>\n",
       "      <td>164460</td>\n",
       "      <td>reverse</td>\n",
       "      <td>1</td>\n",
       "      <td>-</td>\n",
       "    </tr>\n",
       "  </tbody>\n",
       "</table>\n",
       "</div>"
      ],
      "text/plain": [
       "      chr   first    last  reverse  1  -\n",
       "0  chrIII    1074    1104  reverse  1  -\n",
       "1  chrIII   50662   50782  reverse  1  -\n",
       "2  chrIII   52882   53002  reverse  1  -\n",
       "3  chrIII  133295  133505  reverse  1  -\n",
       "4  chrIII  164340  164460  reverse  1  -"
      ]
     },
     "execution_count": 10,
     "metadata": {},
     "output_type": "execute_result"
    }
   ],
   "source": [
    "del dt['dif']\n",
    "del dt['count']\n",
    "del dt['?']\n",
    "l1 = ['reverse']*len(dt)\n",
    "l2 = [1]*len(dt)\n",
    "l3 = ['-']*len(dt)\n",
    "dt['reverse'] = l1\n",
    "dt['1'] = l2\n",
    "dt['-'] = l3\n",
    "dt.head()"
   ]
  },
  {
   "cell_type": "code",
   "execution_count": 11,
   "metadata": {},
   "outputs": [],
   "source": [
    "dt.to_csv('chr_plus.bed', sep='\\t', index=False, header=False)"
   ]
  },
  {
   "cell_type": "code",
   "execution_count": null,
   "metadata": {},
   "outputs": [],
   "source": []
  },
  {
   "cell_type": "markdown",
   "metadata": {},
   "source": [
    "#### Обрабатываем minus последовательность"
   ]
  },
  {
   "cell_type": "code",
   "execution_count": 12,
   "metadata": {},
   "outputs": [
    {
     "data": {
      "text/html": [
       "<div>\n",
       "<style scoped>\n",
       "    .dataframe tbody tr th:only-of-type {\n",
       "        vertical-align: middle;\n",
       "    }\n",
       "\n",
       "    .dataframe tbody tr th {\n",
       "        vertical-align: top;\n",
       "    }\n",
       "\n",
       "    .dataframe thead th {\n",
       "        text-align: right;\n",
       "    }\n",
       "</style>\n",
       "<table border=\"1\" class=\"dataframe\">\n",
       "  <thead>\n",
       "    <tr style=\"text-align: right;\">\n",
       "      <th></th>\n",
       "      <th>chr</th>\n",
       "      <th>first</th>\n",
       "      <th>last</th>\n",
       "      <th>?</th>\n",
       "    </tr>\n",
       "  </thead>\n",
       "  <tbody>\n",
       "    <tr>\n",
       "      <th>0</th>\n",
       "      <td>chrIII</td>\n",
       "      <td>106260</td>\n",
       "      <td>106410</td>\n",
       "      <td>47.5</td>\n",
       "    </tr>\n",
       "    <tr>\n",
       "      <th>1</th>\n",
       "      <td>chrIII</td>\n",
       "      <td>316351</td>\n",
       "      <td>316621</td>\n",
       "      <td>45.7</td>\n",
       "    </tr>\n",
       "    <tr>\n",
       "      <th>2</th>\n",
       "      <td>chrII</td>\n",
       "      <td>7765</td>\n",
       "      <td>7900</td>\n",
       "      <td>44.1</td>\n",
       "    </tr>\n",
       "    <tr>\n",
       "      <th>3</th>\n",
       "      <td>chrII</td>\n",
       "      <td>123841</td>\n",
       "      <td>123976</td>\n",
       "      <td>46.2</td>\n",
       "    </tr>\n",
       "    <tr>\n",
       "      <th>4</th>\n",
       "      <td>chrII</td>\n",
       "      <td>128536</td>\n",
       "      <td>128671</td>\n",
       "      <td>50.7</td>\n",
       "    </tr>\n",
       "  </tbody>\n",
       "</table>\n",
       "</div>"
      ],
      "text/plain": [
       "      chr   first    last     ?\n",
       "0  chrIII  106260  106410  47.5\n",
       "1  chrIII  316351  316621  45.7\n",
       "2   chrII    7765    7900  44.1\n",
       "3   chrII  123841  123976  46.2\n",
       "4   chrII  128536  128671  50.7"
      ]
     },
     "execution_count": 12,
     "metadata": {},
     "output_type": "execute_result"
    }
   ],
   "source": [
    "dt = pd.read_csv('Saccaromyces_all_w15_th-1_minus.hits.max.PDS.w50.35.bed', sep='\\t', names=['chr', 'first', 'last', '?'])\n",
    "dt.head()"
   ]
  },
  {
   "cell_type": "code",
   "execution_count": 13,
   "metadata": {},
   "outputs": [
    {
     "data": {
      "text/plain": [
       "220"
      ]
     },
     "execution_count": 13,
     "metadata": {},
     "output_type": "execute_result"
    }
   ],
   "source": [
    "len(dt)"
   ]
  },
  {
   "cell_type": "code",
   "execution_count": 14,
   "metadata": {},
   "outputs": [
    {
     "data": {
      "text/html": [
       "<div>\n",
       "<style scoped>\n",
       "    .dataframe tbody tr th:only-of-type {\n",
       "        vertical-align: middle;\n",
       "    }\n",
       "\n",
       "    .dataframe tbody tr th {\n",
       "        vertical-align: top;\n",
       "    }\n",
       "\n",
       "    .dataframe thead th {\n",
       "        text-align: right;\n",
       "    }\n",
       "</style>\n",
       "<table border=\"1\" class=\"dataframe\">\n",
       "  <thead>\n",
       "    <tr style=\"text-align: right;\">\n",
       "      <th></th>\n",
       "      <th>chr</th>\n",
       "      <th>first</th>\n",
       "      <th>last</th>\n",
       "      <th>?</th>\n",
       "      <th>dif</th>\n",
       "    </tr>\n",
       "  </thead>\n",
       "  <tbody>\n",
       "    <tr>\n",
       "      <th>0</th>\n",
       "      <td>chrIII</td>\n",
       "      <td>106260</td>\n",
       "      <td>106410</td>\n",
       "      <td>47.5</td>\n",
       "      <td>150</td>\n",
       "    </tr>\n",
       "    <tr>\n",
       "      <th>1</th>\n",
       "      <td>chrIII</td>\n",
       "      <td>316351</td>\n",
       "      <td>316621</td>\n",
       "      <td>45.7</td>\n",
       "      <td>270</td>\n",
       "    </tr>\n",
       "    <tr>\n",
       "      <th>2</th>\n",
       "      <td>chrII</td>\n",
       "      <td>7765</td>\n",
       "      <td>7900</td>\n",
       "      <td>44.1</td>\n",
       "      <td>135</td>\n",
       "    </tr>\n",
       "    <tr>\n",
       "      <th>3</th>\n",
       "      <td>chrII</td>\n",
       "      <td>123841</td>\n",
       "      <td>123976</td>\n",
       "      <td>46.2</td>\n",
       "      <td>135</td>\n",
       "    </tr>\n",
       "    <tr>\n",
       "      <th>4</th>\n",
       "      <td>chrII</td>\n",
       "      <td>128536</td>\n",
       "      <td>128671</td>\n",
       "      <td>50.7</td>\n",
       "      <td>135</td>\n",
       "    </tr>\n",
       "  </tbody>\n",
       "</table>\n",
       "</div>"
      ],
      "text/plain": [
       "      chr   first    last     ?  dif\n",
       "0  chrIII  106260  106410  47.5  150\n",
       "1  chrIII  316351  316621  45.7  270\n",
       "2   chrII    7765    7900  44.1  135\n",
       "3   chrII  123841  123976  46.2  135\n",
       "4   chrII  128536  128671  50.7  135"
      ]
     },
     "execution_count": 14,
     "metadata": {},
     "output_type": "execute_result"
    }
   ],
   "source": [
    "l = []\n",
    "for i in range(len(dt)):\n",
    "    l.append(dt['last'][i] - dt['first'][i])\n",
    "dt['dif'] = l\n",
    "dt.head()"
   ]
  },
  {
   "cell_type": "markdown",
   "metadata": {},
   "source": [
    "Смотрим распределение последовательностей, избавляемся от выбросов."
   ]
  },
  {
   "cell_type": "code",
   "execution_count": 15,
   "metadata": {},
   "outputs": [
    {
     "data": {
      "image/png": "[encoded data removed]",
      "text/plain": [
       "<Figure size 432x288 with 1 Axes>"
      ]
     },
     "metadata": {
      "needs_background": "light"
     },
     "output_type": "display_data"
    }
   ],
   "source": [
    "# dt['dif'].hist(bins=len(dt['dif']))\n",
    "plt.hist(dt['dif'], density=True, bins=30)  # `density=False` would make counts\n",
    "plt.ylabel('Prob')\n",
    "plt.xlabel('Length');\n",
    "plt.show()"
   ]
  },
  {
   "cell_type": "code",
   "execution_count": 16,
   "metadata": {},
   "outputs": [
    {
     "name": "stdout",
     "output_type": "stream",
     "text": [
      "375 15 134.38636363636363\n"
     ]
    }
   ],
   "source": [
    "print(max(dt['dif']), min(dt['dif']), sum(dt['dif'])/len(dt['dif']))"
   ]
  },
  {
   "cell_type": "code",
   "execution_count": 17,
   "metadata": {},
   "outputs": [
    {
     "data": {
      "text/html": [
       "<div>\n",
       "<style scoped>\n",
       "    .dataframe tbody tr th:only-of-type {\n",
       "        vertical-align: middle;\n",
       "    }\n",
       "\n",
       "    .dataframe tbody tr th {\n",
       "        vertical-align: top;\n",
       "    }\n",
       "\n",
       "    .dataframe thead th {\n",
       "        text-align: right;\n",
       "    }\n",
       "</style>\n",
       "<table border=\"1\" class=\"dataframe\">\n",
       "  <thead>\n",
       "    <tr style=\"text-align: right;\">\n",
       "      <th></th>\n",
       "      <th>chr</th>\n",
       "      <th>first</th>\n",
       "      <th>last</th>\n",
       "      <th>?</th>\n",
       "      <th>dif</th>\n",
       "    </tr>\n",
       "  </thead>\n",
       "  <tbody>\n",
       "    <tr>\n",
       "      <th>0</th>\n",
       "      <td>chrIII</td>\n",
       "      <td>106260</td>\n",
       "      <td>106410</td>\n",
       "      <td>47.5</td>\n",
       "      <td>150</td>\n",
       "    </tr>\n",
       "    <tr>\n",
       "      <th>1</th>\n",
       "      <td>chrII</td>\n",
       "      <td>7765</td>\n",
       "      <td>7900</td>\n",
       "      <td>44.1</td>\n",
       "      <td>135</td>\n",
       "    </tr>\n",
       "    <tr>\n",
       "      <th>2</th>\n",
       "      <td>chrII</td>\n",
       "      <td>123841</td>\n",
       "      <td>123976</td>\n",
       "      <td>46.2</td>\n",
       "      <td>135</td>\n",
       "    </tr>\n",
       "    <tr>\n",
       "      <th>3</th>\n",
       "      <td>chrII</td>\n",
       "      <td>128536</td>\n",
       "      <td>128671</td>\n",
       "      <td>50.7</td>\n",
       "      <td>135</td>\n",
       "    </tr>\n",
       "    <tr>\n",
       "      <th>4</th>\n",
       "      <td>chrII</td>\n",
       "      <td>130576</td>\n",
       "      <td>130681</td>\n",
       "      <td>38.5</td>\n",
       "      <td>105</td>\n",
       "    </tr>\n",
       "  </tbody>\n",
       "</table>\n",
       "</div>"
      ],
      "text/plain": [
       "      chr   first    last     ?  dif\n",
       "0  chrIII  106260  106410  47.5  150\n",
       "1   chrII    7765    7900  44.1  135\n",
       "2   chrII  123841  123976  46.2  135\n",
       "3   chrII  128536  128671  50.7  135\n",
       "4   chrII  130576  130681  38.5  105"
      ]
     },
     "execution_count": 17,
     "metadata": {},
     "output_type": "execute_result"
    }
   ],
   "source": [
    "for i in range(len(dt)):\n",
    "    if dt['dif'][i] > 240:\n",
    "        dt = dt.drop(i)\n",
    "dt = dt.reset_index(drop=True)\n",
    "for i in range(len(dt)):\n",
    "    if dt['dif'][i] < 30:\n",
    "        dt = dt.drop(i)\n",
    "dt = dt.reset_index(drop=True)\n",
    "dt.head()"
   ]
  },
  {
   "cell_type": "code",
   "execution_count": 18,
   "metadata": {},
   "outputs": [
    {
     "data": {
      "text/plain": [
       "209"
      ]
     },
     "execution_count": 18,
     "metadata": {},
     "output_type": "execute_result"
    }
   ],
   "source": [
    "len(dt)"
   ]
  },
  {
   "cell_type": "code",
   "execution_count": 19,
   "metadata": {},
   "outputs": [
    {
     "data": {
      "text/html": [
       "<div>\n",
       "<style scoped>\n",
       "    .dataframe tbody tr th:only-of-type {\n",
       "        vertical-align: middle;\n",
       "    }\n",
       "\n",
       "    .dataframe tbody tr th {\n",
       "        vertical-align: top;\n",
       "    }\n",
       "\n",
       "    .dataframe thead th {\n",
       "        text-align: right;\n",
       "    }\n",
       "</style>\n",
       "<table border=\"1\" class=\"dataframe\">\n",
       "  <thead>\n",
       "    <tr style=\"text-align: right;\">\n",
       "      <th></th>\n",
       "      <th>first</th>\n",
       "      <th>last</th>\n",
       "      <th>?</th>\n",
       "      <th>count</th>\n",
       "    </tr>\n",
       "    <tr>\n",
       "      <th>dif</th>\n",
       "      <th></th>\n",
       "      <th></th>\n",
       "      <th></th>\n",
       "      <th></th>\n",
       "    </tr>\n",
       "  </thead>\n",
       "  <tbody>\n",
       "    <tr>\n",
       "      <th>30</th>\n",
       "      <td>1623020</td>\n",
       "      <td>1623140</td>\n",
       "      <td>190.9</td>\n",
       "      <td>4</td>\n",
       "    </tr>\n",
       "    <tr>\n",
       "      <th>45</th>\n",
       "      <td>4040071</td>\n",
       "      <td>4040341</td>\n",
       "      <td>271.2</td>\n",
       "      <td>6</td>\n",
       "    </tr>\n",
       "    <tr>\n",
       "      <th>60</th>\n",
       "      <td>2940891</td>\n",
       "      <td>2941071</td>\n",
       "      <td>132.9</td>\n",
       "      <td>3</td>\n",
       "    </tr>\n",
       "    <tr>\n",
       "      <th>75</th>\n",
       "      <td>82324</td>\n",
       "      <td>82399</td>\n",
       "      <td>39.7</td>\n",
       "      <td>1</td>\n",
       "    </tr>\n",
       "    <tr>\n",
       "      <th>90</th>\n",
       "      <td>1241001</td>\n",
       "      <td>1241181</td>\n",
       "      <td>73.8</td>\n",
       "      <td>2</td>\n",
       "    </tr>\n",
       "    <tr>\n",
       "      <th>105</th>\n",
       "      <td>10460310</td>\n",
       "      <td>10462830</td>\n",
       "      <td>924.4</td>\n",
       "      <td>24</td>\n",
       "    </tr>\n",
       "    <tr>\n",
       "      <th>120</th>\n",
       "      <td>34233549</td>\n",
       "      <td>34241829</td>\n",
       "      <td>2982.0</td>\n",
       "      <td>69</td>\n",
       "    </tr>\n",
       "    <tr>\n",
       "      <th>135</th>\n",
       "      <td>27035284</td>\n",
       "      <td>27044194</td>\n",
       "      <td>3258.8</td>\n",
       "      <td>66</td>\n",
       "    </tr>\n",
       "    <tr>\n",
       "      <th>150</th>\n",
       "      <td>7416869</td>\n",
       "      <td>7419119</td>\n",
       "      <td>755.5</td>\n",
       "      <td>15</td>\n",
       "    </tr>\n",
       "    <tr>\n",
       "      <th>165</th>\n",
       "      <td>4206974</td>\n",
       "      <td>4208129</td>\n",
       "      <td>357.2</td>\n",
       "      <td>7</td>\n",
       "    </tr>\n",
       "    <tr>\n",
       "      <th>180</th>\n",
       "      <td>2179224</td>\n",
       "      <td>2179944</td>\n",
       "      <td>181.0</td>\n",
       "      <td>4</td>\n",
       "    </tr>\n",
       "    <tr>\n",
       "      <th>195</th>\n",
       "      <td>509854</td>\n",
       "      <td>510049</td>\n",
       "      <td>47.6</td>\n",
       "      <td>1</td>\n",
       "    </tr>\n",
       "    <tr>\n",
       "      <th>210</th>\n",
       "      <td>1119275</td>\n",
       "      <td>1119695</td>\n",
       "      <td>84.5</td>\n",
       "      <td>2</td>\n",
       "    </tr>\n",
       "    <tr>\n",
       "      <th>225</th>\n",
       "      <td>1590939</td>\n",
       "      <td>1591389</td>\n",
       "      <td>94.6</td>\n",
       "      <td>2</td>\n",
       "    </tr>\n",
       "    <tr>\n",
       "      <th>240</th>\n",
       "      <td>2494075</td>\n",
       "      <td>2494795</td>\n",
       "      <td>156.6</td>\n",
       "      <td>3</td>\n",
       "    </tr>\n",
       "  </tbody>\n",
       "</table>\n",
       "</div>"
      ],
      "text/plain": [
       "        first      last       ?  count\n",
       "dif                                   \n",
       "30    1623020   1623140   190.9      4\n",
       "45    4040071   4040341   271.2      6\n",
       "60    2940891   2941071   132.9      3\n",
       "75      82324     82399    39.7      1\n",
       "90    1241001   1241181    73.8      2\n",
       "105  10460310  10462830   924.4     24\n",
       "120  34233549  34241829  2982.0     69\n",
       "135  27035284  27044194  3258.8     66\n",
       "150   7416869   7419119   755.5     15\n",
       "165   4206974   4208129   357.2      7\n",
       "180   2179224   2179944   181.0      4\n",
       "195    509854    510049    47.6      1\n",
       "210   1119275   1119695    84.5      2\n",
       "225   1590939   1591389    94.6      2\n",
       "240   2494075   2494795   156.6      3"
      ]
     },
     "execution_count": 19,
     "metadata": {},
     "output_type": "execute_result"
    }
   ],
   "source": [
    "l = [1]*len(dt)\n",
    "dt['count'] = l\n",
    "dt.groupby(['dif']).sum()"
   ]
  },
  {
   "cell_type": "code",
   "execution_count": 20,
   "metadata": {},
   "outputs": [],
   "source": [
    "del dt['dif']\n",
    "del dt['count']"
   ]
  },
  {
   "cell_type": "code",
   "execution_count": 21,
   "metadata": {},
   "outputs": [],
   "source": [
    "dt.to_csv('chr_minus.bed', sep='\\t', index=False, header=False)"
   ]
  },
  {
   "cell_type": "code",
   "execution_count": null,
   "metadata": {},
   "outputs": [],
   "source": []
  },
  {
   "cell_type": "markdown",
   "metadata": {},
   "source": [
    "Создаем train/test наборы"
   ]
  },
  {
   "cell_type": "code",
   "execution_count": null,
   "metadata": {},
   "outputs": [],
   "source": []
  }
 ],
 "metadata": {
  "kernelspec": {
   "display_name": "Python 3",
   "language": "python",
   "name": "python3"
  },
  "language_info": {
   "codemirror_mode": {
    "name": "ipython",
    "version": 3
   },
   "file_extension": ".py",
   "mimetype": "text/x-python",
   "name": "python",
   "nbconvert_exporter": "python",
   "pygments_lexer": "ipython3",
   "version": "3.7.0"
  }
 },
 "nbformat": 4,
 "nbformat_minor": 2
}
