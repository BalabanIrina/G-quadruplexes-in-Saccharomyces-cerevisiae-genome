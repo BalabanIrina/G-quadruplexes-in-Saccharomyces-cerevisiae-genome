{
 "cells": [
  {
   "cell_type": "code",
   "execution_count": 9,
   "metadata": {},
   "outputs": [],
   "source": [
    "import pandas as pd\n",
    "import matplotlib.pyplot as plt\n",
    "from simpletransformers.classification import ClassificationModel"
   ]
  },
  {
   "cell_type": "code",
   "execution_count": 12,
   "metadata": {},
   "outputs": [],
   "source": [
    "df_train = pd.read_csv('train.csv', sep='\\t')\n",
    "del df_train['Unnamed: 0']\n",
    "\n",
    "df_test = pd.read_csv('test.csv', sep='\\t')\n",
    "del df_test['Unnamed: 0']"
   ]
  },
  {
   "cell_type": "code",
   "execution_count": null,
   "metadata": {},
   "outputs": [],
   "source": [
    "model = ClassificationModel('flaubert', 'flaubert-base-cased',\n",
    "                            args={'train_batch_size': 10,\n",
    "                                  'max_seq_length': 250, \n",
    "                                  'num_train_epochs': 3, \n",
    "                                  'warmut_ratio': 0.12,\n",
    "                                  'learning_rate': 5e-5}, \n",
    "                            use_cuda=False)\n",
    "\n",
    "model.train_model(df_train)\n",
    "result, model_outputs, wrong_predictions = model.eval_model(df_test)\n",
    "result"
   ]
  },
  {
   "cell_type": "code",
   "execution_count": null,
   "metadata": {},
   "outputs": [],
   "source": [
    "model = ClassificationModel('camembert', 'camembert-base',\n",
    "                            args={'train_batch_size': 10,\n",
    "                                  'max_seq_length': 130, \n",
    "                                  'num_train_epochs': 3, \n",
    "                                  'warmut_ratio': 0.16,\n",
    "                                  'learning_rate': 5e-5}, \n",
    "                            use_cuda=False)\n",
    "\n",
    "model.train_model(df_train)\n",
    "result, model_outputs, wrong_predictions = model.eval_model(df_test)\n",
    "result"
   ]
  },
  {
   "cell_type": "code",
   "execution_count": null,
   "metadata": {},
   "outputs": [],
   "source": [
    "model = ClassificationModel('roberta', 'roberta-base',\n",
    "                            args={'train_batch_size': 12,\n",
    "                                  'max_seq_length': 180, \n",
    "                                  'num_train_epochs': 3, \n",
    "                                  'warmut_ratio': 0.06,\n",
    "                                  'learning_rate': 1e-5}, \n",
    "                            use_cuda=False)\n",
    "\n",
    "model.train_model(df_train)\n",
    "result, model_outputs, wrong_predictions = model.eval_model(df_test)\n",
    "result"
   ]
  },
  {
   "cell_type": "code",
   "execution_count": null,
   "metadata": {},
   "outputs": [],
   "source": [
    "model = ClassificationModel('xlnet', 'xlnet-base-cased',\n",
    "                            args={'train_batch_size': 8,\n",
    "                                  'max_seq_length': 130, \n",
    "                                  'num_train_epochs': 3, \n",
    "                                  'warmut_ratio': 0.18,\n",
    "                                  'learning_rate': 5e-6}, \n",
    "                            use_cuda=False)\n",
    "\n",
    "model.train_model(df_train)\n",
    "result, model_outputs, wrong_predictions = model.eval_model(df_test)\n",
    "result"
   ]
  },
  {
   "cell_type": "code",
   "execution_count": null,
   "metadata": {},
   "outputs": [],
   "source": [
    "model = ClassificationModel('bert', 'bert-base-cased', \n",
    "                            args={'num_train_epochs': 1}, \n",
    "                            use_cuda=False)\n",
    "model.train_model(df_train)\n",
    "result, model_outputs, wrong_predictions = model.eval_model(df_test)\n",
    "result"
   ]
  },
  {
   "cell_type": "code",
   "execution_count": null,
   "metadata": {},
   "outputs": [],
   "source": [
    "model = ClassificationModel('albert', 'albert-base-v2', \n",
    "                            args={'num_train_epochs': 1}, \n",
    "                            use_cuda=False)\n",
    "model.train_model(df_train)\n",
    "result, model_outputs, wrong_predictions = model.eval_model(df_test)\n",
    "result"
   ]
  },
  {
   "cell_type": "code",
   "execution_count": null,
   "metadata": {},
   "outputs": [],
   "source": [
    "model = ClassificationModel('xlm', 'xlm-mlm-en-2048', \n",
    "                            args={'num_train_epochs': 3}, \n",
    "                            use_cuda=False)\n",
    "model.train_model(df_train)\n",
    "result, model_outputs, wrong_predictions = model.eval_model(df_test)"
   ]
  },
  {
   "cell_type": "code",
   "execution_count": null,
   "metadata": {},
   "outputs": [],
   "source": []
  }
 ],
 "metadata": {
  "kernelspec": {
   "display_name": "Python 3",
   "language": "python",
   "name": "python3"
  },
  "language_info": {
   "codemirror_mode": {
    "name": "ipython",
    "version": 3
   },
   "file_extension": ".py",
   "mimetype": "text/x-python",
   "name": "python",
   "nbconvert_exporter": "python",
   "pygments_lexer": "ipython3",
   "version": "3.7.0"
  }
 },
 "nbformat": 4,
 "nbformat_minor": 2
}
